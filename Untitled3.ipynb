{
  "nbformat": 4,
  "nbformat_minor": 0,
  "metadata": {
    "colab": {
      "provenance": [],
      "authorship_tag": "ABX9TyNrgAa6QclGuKo7oKA/4RPr",
      "include_colab_link": true
    },
    "kernelspec": {
      "name": "python3",
      "display_name": "Python 3"
    },
    "language_info": {
      "name": "python"
    }
  },
  "cells": [
    {
      "cell_type": "markdown",
      "metadata": {
        "id": "view-in-github",
        "colab_type": "text"
      },
      "source": [
        "<a href=\"https://colab.research.google.com/github/branzyy/Artificial-Intelligence/blob/main/Untitled3.ipynb\" target=\"_parent\"><img src=\"https://colab.research.google.com/assets/colab-badge.svg\" alt=\"Open In Colab\"/></a>"
      ]
    },
    {
      "cell_type": "code",
      "execution_count": 4,
      "metadata": {
        "colab": {
          "base_uri": "https://localhost:8080/"
        },
        "collapsed": true,
        "id": "cDQUv7RurzR3",
        "outputId": "117fced7-39d1-414c-bc7b-41a69f6e2d9c"
      },
      "outputs": [
        {
          "output_type": "stream",
          "name": "stdout",
          "text": [
            "Enter number of days: 66\n",
            "66 days have 5702400 seconds.\n"
          ]
        }
      ],
      "source": [
        "# Q1: Program to calculate the number of seconds in the amount of days given\n",
        "\n",
        "# Ask user to input number of days\n",
        "\n",
        "days = int(input(\"Enter number of days: \"))\n",
        "\n",
        "# 1 day has 24hrs and each hr has 60minutes and each minute has 60 seconds\n",
        "seconds = days * 24 * 60 * 60\n",
        "\n",
        "# print result\n",
        "print(f\"{days} days have {seconds} seconds.\")\n",
        "\n"
      ]
    },
    {
      "cell_type": "code",
      "source": [
        "# Q2: Program to calculate volume of a sphere\n",
        "\n",
        "import math\n",
        "\n",
        "# Ask user to enter radius\n",
        "radius = float(input(\"Enter the radius of the sphere: \"))\n",
        "\n",
        "#calculate volume of the sphere\n",
        "volume = (4/3) * math.pi * ( radius*radius*radius)\n",
        "\n",
        "#Show result\n",
        "print(f\"The volume of the sphere with a radius of {radius} is {volume:.2f}\")\n",
        "# the .2f means the answer to be in 2 decimal places\n",
        "\n"
      ],
      "metadata": {
        "colab": {
          "base_uri": "https://localhost:8080/"
        },
        "id": "371SPu4Gxxmz",
        "outputId": "df3dc40b-eda4-476b-b8c9-946ce930841f"
      },
      "execution_count": 8,
      "outputs": [
        {
          "output_type": "stream",
          "name": "stdout",
          "text": [
            "Enter the radius of the sphere: 4\n",
            "The volume of the sphere with a radius of 4.0 is 268.08\n"
          ]
        }
      ]
    },
    {
      "cell_type": "code",
      "source": [
        "# Q3 Program to compute area and perimeter of a square\n",
        "\n",
        "#Function to calculate area\n",
        "def area(side):\n",
        "   return side * side\n",
        "\n",
        "#Function to calculate area\n",
        "def perimeter(side):\n",
        "   return side * 4\n",
        "\n",
        "# Ask user to input the length of one side\n",
        "# Using float to allow decimals\n",
        "side_length = float(input(\"Enter the side length of the square: \"))\n",
        "\n",
        "#display results\n",
        "print(f\"Area of the square {area(side_length)}\")\n",
        "print(f\"Perimeter of the square {perimeter(side_length)}\")\n"
      ],
      "metadata": {
        "colab": {
          "base_uri": "https://localhost:8080/"
        },
        "id": "npBhZvom4o3C",
        "outputId": "d0da2887-cdf9-405b-83cf-9b40a957c86a"
      },
      "execution_count": 11,
      "outputs": [
        {
          "output_type": "stream",
          "name": "stdout",
          "text": [
            "Enter the side length of the square: 2\n",
            "Area of the square 4.0\n",
            "Perimeter of the square 8.0\n"
          ]
        }
      ]
    },
    {
      "cell_type": "code",
      "source": [
        "#Q4 Program using functions to check if a character is uppercase or lowercase\n",
        "\n",
        "#Function to check\n",
        "def check_case(char):\n",
        " if char.isupper():\n",
        "  return \"Uppercase\"\n",
        " elif char.islower():\n",
        "  return \"Lowercase\"\n",
        " else :\n",
        "  return \"Not a letter\"\n",
        "\n",
        "#Ask user for a character\n",
        "char_input = input(\"Enter a character: \")\n",
        "\n",
        "#Display Result\n",
        "print(F\"The character '{char_input}' is {check_case(char_input)}.\")"
      ],
      "metadata": {
        "colab": {
          "base_uri": "https://localhost:8080/"
        },
        "id": "dD7pkmuh7aeg",
        "outputId": "6fb80144-6adf-4683-cac6-73ecd9c5e13d"
      },
      "execution_count": 17,
      "outputs": [
        {
          "output_type": "stream",
          "name": "stdout",
          "text": [
            "Enter a character: 8\n",
            "The character '8' is Not a letter.\n"
          ]
        }
      ]
    },
    {
      "cell_type": "code",
      "source": [
        "#Q5 Program that looks like the pseudocode\n",
        "\n",
        "#SET x to 0 and y to 20\n",
        "# subtract 4 from y\n",
        "# add 2/y to x\n",
        "# until y is less than 6\n",
        "\n",
        "x = 0\n",
        "y = 20\n",
        "#Repeat until y is less than 6\n",
        "while y >= 6:\n",
        "  y -= 4   #subtracting 4 from y\n",
        "  x +=2/y  # Adding 2/y to x\n",
        "\n",
        "# Display final value of x\n",
        "print(f\"Final value of x:\",x)\n",
        "\n"
      ],
      "metadata": {
        "colab": {
          "base_uri": "https://localhost:8080/"
        },
        "id": "NKltUi5uBr3d",
        "outputId": "072b126a-2f72-47e1-d38d-5068baa40bd8"
      },
      "execution_count": 22,
      "outputs": [
        {
          "output_type": "stream",
          "name": "stdout",
          "text": [
            "Final value of x: 1.0416666666666665\n"
          ]
        }
      ]
    },
    {
      "cell_type": "code",
      "source": [
        "#Q6 Program to input 5 values, store in array and calculate average\n",
        "\n",
        "#Initialize empty list\n",
        "values = []\n",
        "\n",
        "#Use loop to get the 5 values from the user\n",
        "for i in range(5):\n",
        "  num = float(input(f\"Enter value {i+1}: \"))\n",
        "  values.append(num)\n",
        "\n",
        "#Calculate average\n",
        "average = sum(values) / len(values)\n",
        "\n",
        "#Display results\n",
        "print(\"Values entered are:\", values)\n",
        "print(\"Average of values is:\", average)7"
      ],
      "metadata": {
        "colab": {
          "base_uri": "https://localhost:8080/"
        },
        "id": "CaCWEkfBHEQ2",
        "outputId": "8fe59a37-66fa-4b26-8773-6e4e24cea982"
      },
      "execution_count": 25,
      "outputs": [
        {
          "output_type": "stream",
          "name": "stdout",
          "text": [
            "Enter value 1: 44\n",
            "Enter value 2: 55\n",
            "Enter value 3: 66\n",
            "Enter value 4: 7\n",
            "Enter value 5: 8\n",
            "Values entered are: [44.0, 55.0, 66.0, 7.0, 8.0]\n",
            "Average of values is: 36.0\n"
          ]
        }
      ]
    },
    {
      "cell_type": "code",
      "source": [
        "#Q7"
      ],
      "metadata": {
        "id": "SkTOdTrCFvxu"
      },
      "execution_count": null,
      "outputs": []
    }
  ]
}